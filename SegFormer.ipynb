{
 "cells": [
  {
   "cell_type": "code",
   "execution_count": 1,
   "id": "1b2127a7-cd36-41e6-a5f3-7a31fa29616e",
   "metadata": {
    "editable": true,
    "slideshow": {
     "slide_type": ""
    },
    "tags": []
   },
   "outputs": [
    {
     "name": "stderr",
     "output_type": "stream",
     "text": [
      "/home/neos/.local/lib/python3.10/site-packages/tqdm/auto.py:21: TqdmWarning: IProgress not found. Please update jupyter and ipywidgets. See https://ipywidgets.readthedocs.io/en/stable/user_install.html\n",
      "  from .autonotebook import tqdm as notebook_tqdm\n",
      "INFO:albumentations.check_version:A new version of Albumentations is available: 2.0.5 (you have 1.4.7). Upgrade using: pip install --upgrade albumentations\n"
     ]
    }
   ],
   "source": [
    "import os\n",
    "import numpy as np\n",
    "from PIL import Image\n",
    "\n",
    "import torch\n",
    "import torch.nn as nn\n",
    "import torch.nn.functional as F\n",
    "from torch.utils.data import Dataset, DataLoader\n",
    "import transformers\n",
    "\n",
    "# Если используете albumentations, раскомментируйте импорт\n",
    "# !pip install albumentations>=1.0.0 --quiet\n",
    "import albumentations as A\n",
    "from albumentations.pytorch import ToTensorV2\n",
    "from tqdm import tqdm\n",
    "from transformers import SegformerImageProcessor, SegformerForSemanticSegmentation\n",
    "\n",
    "rescale = 1\n",
    "os.environ[\"CUDA_VISIBLE_DEVICES\"] = \"5,6\"\n",
    "IMAGENET_DEFAULT_MEAN = [0.485, 0.456, 0.406]\n",
    "IMAGENET_DEFAULT_STD = [0.229, 0.224, 0.225]\n",
    "CUSTOM_MEAN = [0.1778, 0.2696, 0.1686]\n",
    "CUSTOM_STD = [0.0942, 0.0915, 0.0762]\n",
    "\n",
    "PATCH_SIZE = 256 // rescale\n",
    "NUM_LABELS = 3"
   ]
  },
  {
   "cell_type": "code",
   "execution_count": 2,
   "id": "325ad236-9688-45fd-8c96-a0a6dfac481a",
   "metadata": {
    "editable": true,
    "slideshow": {
     "slide_type": ""
    },
    "tags": []
   },
   "outputs": [
    {
     "name": "stderr",
     "output_type": "stream",
     "text": [
      "INFO:datasets:PyTorch version 2.6.0+cu124 available.\n"
     ]
    }
   ],
   "source": [
    "from datasets import load_dataset\n",
    "import logging\n",
    "\n",
    "logging.basicConfig(level=logging.DEBUG)\n",
    "\n",
    "dataset = load_dataset(\"./my_segmentation_dataset.py\", data_dir=\"./data\" + f\"_x{rescale}\" * (rescale != 1), trust_remote_code=True)\n",
    "train_ds = dataset[\"train\"]\n",
    "valid_ds = dataset[\"validation\"]\n",
    "\n",
    "id2label = {0: \"unlabeled\", 1: \"forest0\", 2: \"forest1\"}\n",
    "label2id = {v: k for k, v in id2label.items()}"
   ]
  },
  {
   "cell_type": "code",
   "execution_count": 3,
   "id": "b44762f8-399f-4276-bc68-356e3e276b9e",
   "metadata": {},
   "outputs": [],
   "source": [
    "def transforms(examples):\n",
    "    transformA = A.Compose([\n",
    "        A.HorizontalFlip(p=0.5),\n",
    "        A.VerticalFlip(p=0.5),\n",
    "        A.RandomRotate90(p=0.5),\n",
    "        \n",
    "        # При необходимости можно добавить и другие аугментации, \n",
    "        # например, яркость/контраст, шум и т.д.\n",
    "        \n",
    "        # Простейшая нормализация, если нужно\n",
    "        # A.Normalize(mean=IMAGENET_DEFAULT_MEAN, std=IMAGENET_DEFAULT_STD),  \n",
    "        # ToTensorV2()\n",
    "    ])\n",
    "    \n",
    "    transformed_images, transformed_masks = [], []\n",
    "    for image, seg_mask in zip(examples[\"image\"], examples[\"annotation\"]):\n",
    "        image, seg_mask = np.array(image), np.array(seg_mask)\n",
    "        transformed = transformA(image=image, mask=seg_mask)\n",
    "        transformed_images.append(transformed[\"image\"])\n",
    "        transformed_masks.append(transformed[\"mask\"])\n",
    "    examples[\"pixel_values\"] = transformed_images\n",
    "    examples[\"label\"] = transformed_masks\n",
    "    return examples"
   ]
  },
  {
   "cell_type": "code",
   "execution_count": 4,
   "id": "cfdffd8d-d754-435b-9d6c-4291b48d4eaf",
   "metadata": {
    "editable": true,
    "slideshow": {
     "slide_type": ""
    },
    "tags": []
   },
   "outputs": [],
   "source": [
    "import evaluate\n",
    "\n",
    "metric = evaluate.load(\"mean_iou\")\n",
    "metric_f1 = evaluate.load(\"f1\")\n",
    "\n",
    "def compute_metrics(eval_pred):\n",
    "    with torch.no_grad():\n",
    "        # print(eval_pred.losses)\n",
    "        logits, labels = eval_pred\n",
    "\n",
    "        pred_labels = np.argmax(logits, axis=1)\n",
    "        metrics = metric.compute(\n",
    "            predictions=pred_labels,\n",
    "            references=labels,\n",
    "            num_labels=NUM_LABELS,\n",
    "            ignore_index=255,\n",
    "            reduce_labels=False,\n",
    "        )\n",
    "        metrics_f1 = metric_f1.compute(\n",
    "            predictions=pred_labels.flatten(),\n",
    "            references=labels.flatten(),\n",
    "            average=\"macro\",\n",
    "            # ignore_index=255,\n",
    "            # reduce_labels=True,\n",
    "        )\n",
    "        per_category_accuracy = metrics.pop(\"per_category_accuracy\").tolist()\n",
    "        per_category_iou = metrics.pop(\"per_category_iou\").tolist()\n",
    "    \n",
    "        metrics.update({f\"accuracy_{id2label[i]}\": v for i, v in enumerate(per_category_accuracy)})\n",
    "        metrics.update({f\"iou_{id2label[i]}\": v for i, v in enumerate(per_category_iou)})\n",
    "        metrics.update({\"f1_score\": metrics_f1[\"f1\"]})\n",
    "    \n",
    "        return metrics"
   ]
  },
  {
   "cell_type": "code",
   "execution_count": 5,
   "id": "c2ce922a-46d9-413c-a64b-d19362304d3d",
   "metadata": {},
   "outputs": [
    {
     "name": "stderr",
     "output_type": "stream",
     "text": [
      "/home/neos/.local/lib/python3.10/site-packages/transformers/utils/deprecation.py:172: UserWarning: The following named arguments are not valid for `SegformerImageProcessor.__init__` and were ignored: 'feature_extractor_type'\n",
      "  return func(*args, **kwargs)\n"
     ]
    }
   ],
   "source": [
    "from transformers import AutoImageProcessor\n",
    "\n",
    "# checkpoint = \"nvidia/mit-b0\"\n",
    "checkpoint = \"nvidia/segformer-b0-finetuned-ade-512-512\"\n",
    "# checkpoint = \"sawthiha/segformer-b0-finetuned-deprem-satellite\"\n",
    "# checkpoint = \"nvidia/segformer-b5-finetuned-ade-640-640\"\n",
    "image_processor = SegformerImageProcessor.from_pretrained(checkpoint, size={\"height\": PATCH_SIZE, \"width\": PATCH_SIZE},\n",
    "                                                          do_reduce_labels=False, image_mean=CUSTOM_MEAN, image_std=CUSTOM_STD)\n",
    "\n",
    "from torchvision.transforms import ColorJitter\n",
    "\n",
    "jitter = ColorJitter(brightness=0.25, contrast=0.25, saturation=0.25, hue=0.1)\n",
    "\n",
    "def train_transforms(example_batch):\n",
    "    example_batch = transforms(example_batch)\n",
    "    images = [jitter(x) for x in example_batch[\"image\"]]\n",
    "    labels = [x for x in example_batch[\"annotation\"]]\n",
    "    inputs = image_processor(images, labels)\n",
    "    return inputs\n",
    "\n",
    "\n",
    "def val_transforms(example_batch):\n",
    "    images = [x for x in example_batch[\"image\"]]\n",
    "    labels = [x for x in example_batch[\"annotation\"]]\n",
    "    inputs = image_processor(images, labels)\n",
    "    return inputs\n",
    "\n",
    "\n",
    "train_ds.set_transform(train_transforms)\n",
    "valid_ds.set_transform(val_transforms)"
   ]
  },
  {
   "cell_type": "code",
   "execution_count": 6,
   "id": "ad21cc5d-db7d-4931-a78e-5444da2ed4ab",
   "metadata": {},
   "outputs": [],
   "source": [
    "from transformers import TrainerCallback\n",
    "\n",
    "class SaveEvalPredictionsCallback(TrainerCallback):\n",
    "    def __init__(self, trainer, eval_dataset, output_dir, num_labels=3, val_transforms=val_transforms):\n",
    "        super().__init__()\n",
    "        self.trainer = trainer  # явно передаём объект trainer\n",
    "        self.eval_dataset = eval_dataset\n",
    "        self.output_dir = output_dir\n",
    "        self.num_labels = num_labels\n",
    "        os.makedirs(self.output_dir, exist_ok=True)\n",
    "\n",
    "    def upvalue(self, img):\n",
    "        return ((img / (self.num_labels - 1)) * 255).astype(np.uint8)\n",
    "\n",
    "    def on_evaluate(self, args, state, control, **kwargs):\n",
    "        # Выполняем предсказания на eval_dataset с помощью полученного trainer\n",
    "        pred_res = self.trainer.predict(self.eval_dataset)\n",
    "        pred_labels = np.argmax(pred_res.predictions, axis=1)  # [N, H, W]\n",
    "        # upvalue\n",
    "        pred_labels = self.upvalue(pred_labels)\n",
    "    \n",
    "        # Создаём поддиректорию в зависимости от шага\n",
    "        step_folder = os.path.join(self.output_dir, f\"step_{state.global_step}\")\n",
    "        os.makedirs(step_folder, exist_ok=True)\n",
    "    \n",
    "        # Сохраняем каждую маску как png\n",
    "        try:\n",
    "            self.eval_dataset.reset_format()\n",
    "            for i, label_map in enumerate(pred_labels):\n",
    "                label_img = Image.fromarray(np.concatenate((np.repeat(label_map[:, :, None], 3, -1), self.upvalue(np.repeat(np.array(self.eval_dataset[i][\"annotation\"])[:, :, None], 3, -1)), self.eval_dataset[i][\"image\"]), axis=1))\n",
    "                label_img.save(os.path.join(step_folder, f\"pred_{self.eval_dataset[i]['filename'].rsplit('.')[0]}.png\"))\n",
    "        except RuntimeError as e:\n",
    "            self.eval_dataset.set_transform(val_transforms)\n",
    "            raise e\n",
    "        self.eval_dataset.set_transform(val_transforms)\n",
    "\n",
    "        print(f\"Saved evaluation predictions to: {step_folder}\")"
   ]
  },
  {
   "cell_type": "code",
   "execution_count": 7,
   "id": "f18bf94a-29ac-4425-ab69-a27a30b58c85",
   "metadata": {
    "editable": true,
    "slideshow": {
     "slide_type": ""
    },
    "tags": []
   },
   "outputs": [
    {
     "name": "stderr",
     "output_type": "stream",
     "text": [
      "Some weights of SegformerForSemanticSegmentation were not initialized from the model checkpoint at nvidia/segformer-b0-finetuned-ade-512-512 and are newly initialized because the shapes did not match:\n",
      "- decode_head.classifier.bias: found shape torch.Size([150]) in the checkpoint and torch.Size([3]) in the model instantiated\n",
      "- decode_head.classifier.weight: found shape torch.Size([150, 256, 1, 1]) in the checkpoint and torch.Size([3, 256, 1, 1]) in the model instantiated\n",
      "You should probably TRAIN this model on a down-stream task to be able to use it for predictions and inference.\n"
     ]
    }
   ],
   "source": [
    "from transformers import (\n",
    "    AutoModelForSemanticSegmentation,\n",
    "    TrainingArguments,\n",
    "    Trainer\n",
    ")\n",
    "from transformers.modeling_outputs import SemanticSegmenterOutput\n",
    "from typing import Optional, Union, Tuple\n",
    "\n",
    "model = SegformerForSemanticSegmentation.from_pretrained(checkpoint, num_labels=3, ignore_mismatched_sizes=True)\n",
    "\n",
    "class DiceLoss(nn.Module):\n",
    "    def __init__(self, smooth=1.0):\n",
    "        super(DiceLoss, self).__init__()\n",
    "        self.smooth = smooth\n",
    "\n",
    "    def forward(self, outputs, targets):\n",
    "        \"\"\"\n",
    "        Args:\n",
    "            outputs (torch.Tensor): Прогнозы модели размерности (N, C, H, W), от LogSoftmax или Softmax.\n",
    "            targets (torch.Tensor): Истинные метки размерности (N, H, W) или (N, 1, H, W) с классами в [0, C-1].\n",
    "\n",
    "        Returns:\n",
    "            torch.Tensor: Значение Dice Loss.\n",
    "        \"\"\"\n",
    "        num_classes = outputs.size(1)\n",
    "\n",
    "        # Конвертируем targets в one-hot формат, если необходимо\n",
    "        if targets.ndim == 3:\n",
    "            targets = targets.unsqueeze(1)\n",
    "        targets_one_hot = torch.zeros_like(outputs).scatter_(1, targets, 1)\n",
    "\n",
    "        # Вычисляем Dice Loss для каждого класса\n",
    "        dice_loss = 0.0\n",
    "        for c in range(num_classes):\n",
    "            output_c = outputs[:, c, :, :]\n",
    "            target_c = targets_one_hot[:, c, :, :]\n",
    "            \n",
    "            intersection = (output_c * target_c).sum()\n",
    "            union = output_c.sum() + target_c.sum() - intersection\n",
    "\n",
    "            dice_loss += (intersection + self.smooth) / (union + self.smooth)\n",
    "\n",
    "        return 1 - dice_loss / num_classes\n",
    "\n",
    "class ModelWrapper(torch.nn.Module):\n",
    "    def __init__(self, segformer, patch_size=PATCH_SIZE, accepts_loss_kwargs=False):\n",
    "        super().__init__()\n",
    "        self.main = segformer\n",
    "        self.accepts_loss_kwargs = accepts_loss_kwargs\n",
    "        self.patch_size = patch_size\n",
    "        self.dice_loss = DiceLoss()\n",
    "\n",
    "    # def forward(self, *args, **kwargs):\n",
    "    #     outputs = self.main(*args, **kwargs)\n",
    "    def forward(\n",
    "        self,\n",
    "        pixel_values: torch.FloatTensor,\n",
    "        labels: Optional[torch.LongTensor] = None,\n",
    "        output_attentions: Optional[bool] = None,\n",
    "        output_hidden_states: Optional[bool] = None,\n",
    "        return_dict: Optional[bool] = None,\n",
    "    ) -> Union[Tuple, SemanticSegmenterOutput]:\n",
    "        outputs = self.main(pixel_values, labels=labels, output_attentions=output_attentions,\n",
    "                            output_hidden_states=output_hidden_states, return_dict=return_dict)\n",
    "        loss, logits_val = outputs.loss, outputs.logits\n",
    "        upsampled_val_logits = torch.nn.functional.interpolate(\n",
    "        logits_val, size=(self.patch_size, self.patch_size), mode=\"bilinear\", align_corners=False\n",
    "        )\n",
    "        # loss += 0.5 * self.dice_loss(upsampled_val_logits, labels)\n",
    "        return SemanticSegmenterOutput(loss=loss, logits=upsampled_val_logits)"
   ]
  },
  {
   "cell_type": "code",
   "execution_count": null,
   "id": "d147cba3-6d19-417c-8584-a947008ab66e",
   "metadata": {},
   "outputs": [],
   "source": [
    "os.environ[\"WANDB_LOG_MODEL\"] = \"checkpoint\"\n",
    "os.environ[\"WANDB_WATCH\"] = \"all\"\n",
    "# os.environ[\"WANDB_DISABLED\"] = \"true\"\n",
    "os.environ[\"HF_TOKEN\"] = \"<your-token>\""
   ]
  },
  {
   "cell_type": "code",
   "execution_count": null,
   "id": "05f7e89a-7507-41c8-9263-b4604ba08b39",
   "metadata": {
    "editable": true,
    "slideshow": {
     "slide_type": ""
    },
    "tags": []
   },
   "outputs": [
    {
     "name": "stdout",
     "output_type": "stream",
     "text": [
      "num_model_parameters:3714915\n"
     ]
    },
    {
     "name": "stderr",
     "output_type": "stream",
     "text": [
      "WARNING:accelerate.utils.other:Detected kernel version 5.4.210, which is below the recommended minimum of 5.5.0; this can cause the process to hang. It is recommended to upgrade the kernel to the minimum version or higher.\n",
      "\u001b[34m\u001b[1mwandb\u001b[0m: \u001b[33mWARNING\u001b[0m The `run_name` is currently set to the same value as `TrainingArguments.output_dir`. If this was not intended, please specify a different run name by setting the `TrainingArguments.run_name` parameter.\n",
      "\u001b[34m\u001b[1mwandb\u001b[0m: Using wandb-core as the SDK backend.  Please refer to https://wandb.me/wandb-core for more information.\n",
      "\u001b[34m\u001b[1mwandb\u001b[0m: Currently logged in as: \u001b[33marslan-valeev-03\u001b[0m (\u001b[33mcourse_sr\u001b[0m) to \u001b[32mhttps://api.wandb.ai\u001b[0m. Use \u001b[1m`wandb login --relogin`\u001b[0m to force relogin\n"
     ]
    },
    {
     "data": {
      "text/html": [
       "Tracking run with wandb version 0.19.8"
      ],
      "text/plain": [
       "<IPython.core.display.HTML object>"
      ]
     },
     "metadata": {},
     "output_type": "display_data"
    },
    {
     "data": {
      "text/html": [
       "Run data is saved locally in <code>/home/neos/vkr/wandb/run-20250415_153501-zc0xfn0d</code>"
      ],
      "text/plain": [
       "<IPython.core.display.HTML object>"
      ]
     },
     "metadata": {},
     "output_type": "display_data"
    },
    {
     "data": {
      "text/html": [
       "Syncing run <strong><a href='https://wandb.ai/course_sr/huggingface/runs/zc0xfn0d' target=\"_blank\">outputs_custom_stat/checkpoints</a></strong> to <a href='https://wandb.ai/course_sr/huggingface' target=\"_blank\">Weights & Biases</a> (<a href='https://wandb.me/developer-guide' target=\"_blank\">docs</a>)<br>"
      ],
      "text/plain": [
       "<IPython.core.display.HTML object>"
      ]
     },
     "metadata": {},
     "output_type": "display_data"
    },
    {
     "data": {
      "text/html": [
       " View project at <a href='https://wandb.ai/course_sr/huggingface' target=\"_blank\">https://wandb.ai/course_sr/huggingface</a>"
      ],
      "text/plain": [
       "<IPython.core.display.HTML object>"
      ]
     },
     "metadata": {},
     "output_type": "display_data"
    },
    {
     "data": {
      "text/html": [
       " View run at <a href='https://wandb.ai/course_sr/huggingface/runs/zc0xfn0d' target=\"_blank\">https://wandb.ai/course_sr/huggingface/runs/zc0xfn0d</a>"
      ],
      "text/plain": [
       "<IPython.core.display.HTML object>"
      ]
     },
     "metadata": {},
     "output_type": "display_data"
    },
    {
     "data": {
      "text/html": [
       "\n",
       "    <div>\n",
       "      \n",
       "      <progress value='493' max='79000' style='width:300px; height:20px; vertical-align: middle;'></progress>\n",
       "      [  493/79000 07:10 < 19:08:24, 1.14 it/s, Epoch 6.23/1000]\n",
       "    </div>\n",
       "    <table border=\"1\" class=\"dataframe\">\n",
       "  <thead>\n",
       " <tr style=\"text-align: left;\">\n",
       "      <th>Step</th>\n",
       "      <th>Training Loss</th>\n",
       "      <th>Validation Loss</th>\n",
       "    </tr>\n",
       "  </thead>\n",
       "  <tbody>\n",
       "  </tbody>\n",
       "</table><p>"
      ],
      "text/plain": [
       "<IPython.core.display.HTML object>"
      ]
     },
     "metadata": {},
     "output_type": "display_data"
    }
   ],
   "source": [
    "import warnings\n",
    "warnings.filterwarnings(\"ignore\")\n",
    "\n",
    "modelwr = ModelWrapper(model)\n",
    "print(f\"num_model_parameters:{sum(par.numel() for par in modelwr.parameters())}\")\n",
    "outputs_dir = \"outputs_custom_stat\"\n",
    "if rescale > 1:\n",
    "    outputs_dir += f\"_x{rescale}\"\n",
    "\n",
    "training_args = TrainingArguments(\n",
    "    output_dir=os.path.join(outputs_dir, \"checkpoints\"),\n",
    "    learning_rate=6e-5,\n",
    "    num_train_epochs=1000,\n",
    "    per_device_train_batch_size=32,\n",
    "    per_device_eval_batch_size=32,\n",
    "    save_total_limit=5,\n",
    "    eval_strategy=\"steps\",\n",
    "    save_strategy=\"steps\",\n",
    "    save_steps=5000,\n",
    "    eval_steps=1000,\n",
    "    logging_steps=1000,\n",
    "    eval_accumulation_steps=5,\n",
    "    remove_unused_columns=False,\n",
    "    load_best_model_at_end=True,\n",
    "    metric_for_best_model = \"eval_mean_iou\",\n",
    "    # log_level='debug',\n",
    "    # use_cpu=True,\n",
    "    # push_to_hub=True,\n",
    ")\n",
    "\n",
    "trainer = Trainer(\n",
    "    model=modelwr,\n",
    "    args=training_args,\n",
    "    train_dataset=train_ds,\n",
    "    eval_dataset=valid_ds,\n",
    "    compute_metrics=compute_metrics,\n",
    ")\n",
    "callback = SaveEvalPredictionsCallback(\n",
    "    trainer=trainer,\n",
    "    eval_dataset=valid_ds,\n",
    "    output_dir=os.path.join(outputs_dir, \"eval_predict\"),\n",
    ")\n",
    "\n",
    "# добавляем callback после инициализации trainer'а\n",
    "trainer.add_callback(callback)\n",
    "# trainer.add_callback(transformers.integrations.WandbCallback())\n",
    "trainer.train()"
   ]
  }
 ],
 "metadata": {
  "kernelspec": {
   "display_name": "Python 3 (ipykernel)",
   "language": "python",
   "name": "python3"
  },
  "language_info": {
   "codemirror_mode": {
    "name": "ipython",
    "version": 3
   },
   "file_extension": ".py",
   "mimetype": "text/x-python",
   "name": "python",
   "nbconvert_exporter": "python",
   "pygments_lexer": "ipython3",
   "version": "3.10.12"
  }
 },
 "nbformat": 4,
 "nbformat_minor": 5
}
